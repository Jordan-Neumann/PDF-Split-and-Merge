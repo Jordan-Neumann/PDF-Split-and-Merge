{
 "cells": [
  {
   "cell_type": "code",
   "execution_count": null,
   "metadata": {},
   "outputs": [],
   "source": [
    "from PyPDF2 import PdfFileWriter, PdfFileReader, PdfFileMerger\n",
    "\n",
    "#This code separates each page of the pdf into individual pdfs.\n",
    "\n",
    "inputpdf = PdfFileReader(open(\"Salary-Survey.pdf\", \"rb\"))\n",
    "\n",
    "for i in range(inputpdf.numPages):\n",
    "    output = PdfFileWriter()\n",
    "    output.addPage(inputpdf.getPage(i))\n",
    "    with open(\"Salary-Survey-pages%s.pdf\" % i, \"wb\") as outputStream:\n",
    "        output.write(outputStream)"
   ]
  },
  {
   "cell_type": "code",
   "execution_count": null,
   "metadata": {},
   "outputs": [],
   "source": [
    "#I made lists of each desired page range\n",
    "\n",
    "pdfs = ['Salary-Survey-pages8.pdf', 'Salary-Survey-pages9.pdf','Salary-Survey-pages10.pdf','Salary-Survey-pages11.pdf',\n",
    "        'Salary-Survey-pages12.pdf', 'Salary-Survey-pages13.pdf']\n",
    "\n",
    "merger = PdfFileMerger()\n",
    "\n",
    "for pdf in pdfs:\n",
    "    merger.append(pdf)\n",
    "\n",
    "merger.write(\"Summary.pdf\")\n",
    "merger.close()"
   ]
  },
  {
   "cell_type": "code",
   "execution_count": null,
   "metadata": {},
   "outputs": [],
   "source": [
    "#Second list of pages\n",
    "\n",
    "pdfs = ['Salary-Survey-pages16.pdf', 'Salary-Survey-pages17.pdf','Salary-Survey-pages18.pdf','Salary-Survey-pages19.pdf',\n",
    "        'Salary-Survey-pages20.pdf', 'Salary-Survey-pages21.pdf']\n",
    "\n",
    "merger = PdfFileMerger()\n",
    "\n",
    "for pdf in pdfs:\n",
    "    merger.append(pdf)\n",
    "    \n",
    "merger.write(\"County-Judges.pdf\")\n",
    "merger.close()"
   ]
  },
  {
   "cell_type": "code",
   "execution_count": null,
   "metadata": {},
   "outputs": [],
   "source": [
    "#The methods above became tedious so I added input variables \n",
    "\n",
    "a = int(input(\"Start Page: \"))\n",
    "b = int(input(\"End Page: \"))\n",
    "\n",
    "#Working on including input string to merger.write file name\n",
    "#c = (str(input(\"New Document Name: \"))+\".\"+str(\"pdf\"))   \n",
    "    \n",
    "\n",
    "pdfs = []\n",
    "for i in range(a,b):\n",
    "    pdfs.append('Salary-Survey-pages%s.pdf' % i)\n",
    "\n",
    "\n",
    "merger=PdfFileMerger()\n",
    "for pdf in pdfs:\n",
    "    merger.append(pdf) \n",
    "    print(merger)\n",
    "\n",
    "    merger.write(\"NewDocName.pdf\")\n",
    "    merger.close\n"
   ]
  }
 ],
 "metadata": {
  "kernelspec": {
   "display_name": "Python 3",
   "language": "python",
   "name": "python3"
  },
  "language_info": {
   "codemirror_mode": {
    "name": "ipython",
    "version": 3
   },
   "file_extension": ".py",
   "mimetype": "text/x-python",
   "name": "python",
   "nbconvert_exporter": "python",
   "pygments_lexer": "ipython3",
   "version": "3.7.4"
  }
 },
 "nbformat": 4,
 "nbformat_minor": 2
}
