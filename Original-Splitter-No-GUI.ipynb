{
 "cells": [
  {
   "cell_type": "code",
   "execution_count": 1,
   "metadata": {},
   "outputs": [
    {
     "name": "stdout",
     "output_type": "stream",
     "text": [
      "Name of Original Document: Music_Theory\n",
      "How many pdf documents do you need? 2\n",
      "Start Page: 1\n",
      "End Page: 5\n",
      "Name of New Document: Trey\n",
      "Start Page: 6\n",
      "End Page: 12\n",
      "Name of New Document: Jordan\n"
     ]
    }
   ],
   "source": [
    "import PyPDF2\n",
    "\n",
    "# Enter name of pdf document (without extension) you would like to split\n",
    "original_document = input(\"Name of Original Document: \")\n",
    "pd = \".pdf\" # Create file extension\n",
    "original_document = original_document+pd # Concatenate file name and .pdf extension\n",
    "\n",
    "pdfFileObj = open(original_document, 'rb') # Storing file name as file object.  rb = read binary\n",
    "pdfReader = PyPDF2.PdfFileReader(pdfFileObj) # Create reader.  Reader represents the PDF\n",
    "pdfReader.numPages # Number of pages in file\n",
    "\n",
    "# Enter number of pdfs you would like to create\n",
    "number = int(input(\"How many pdf documents do you need? \")) \n",
    "number += 1\n",
    "\n",
    "# Loop though page ranges and create new pdfs\n",
    "for i in range(1,number):\n",
    "    \n",
    "    a = int(input(\"Start Page: \")) # Enter tart page for new document\n",
    "    a -= 1\n",
    "    b = int(input(\"End Page: \")) # Enter start page for new document\n",
    "    new_doc_name = input(\"Name of New Document: \") # Enter name of new document\n",
    "    new_doc_name = new_doc_name+pd # Concatenate file name and .pdf extension\n",
    "    pdfWriter = PyPDF2.PdfFileWriter() # Writer represents a new blank PDF document\n",
    "    \n",
    "    pdfOutputFile = open(new_doc_name, 'wb') # Create a blank PDF document.\n",
    "    \n",
    "    # For each page range, add pages to pdfWriter\n",
    "    for pageNum in range(a,b):\n",
    "        pageObj = pdfReader.getPage(pageNum)\n",
    "        pdfWriter.addPage(pageObj)\n",
    "    \n",
    "     # WRITE combinations of pdfs in 'pdfWriter' to blank PDF document.\n",
    "    pdfWriter.write(pdfOutputFile)\n",
    "    #Shuts all file descriptors (input and output) and clears all memory usage.\n",
    "    pdfOutputFile.close() "
   ]
  }
 ],
 "metadata": {
  "kernelspec": {
   "display_name": "Python 3",
   "language": "python",
   "name": "python3"
  },
  "language_info": {
   "codemirror_mode": {
    "name": "ipython",
    "version": 3
   },
   "file_extension": ".py",
   "mimetype": "text/x-python",
   "name": "python",
   "nbconvert_exporter": "python",
   "pygments_lexer": "ipython3",
   "version": "3.7.4"
  }
 },
 "nbformat": 4,
 "nbformat_minor": 2
}
