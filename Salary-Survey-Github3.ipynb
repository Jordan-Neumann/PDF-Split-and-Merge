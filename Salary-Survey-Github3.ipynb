{
 "cells": [
  {
   "cell_type": "code",
   "execution_count": 1,
   "metadata": {},
   "outputs": [
    {
     "name": "stdout",
     "output_type": "stream",
     "text": [
      "Name of Original Document: Music_Theory\n",
      "How many pdf documents do you need? 2\n",
      "Start Page: 36\n",
      "End Page: 40\n",
      "Name of New Document: Time_Signatures\n",
      "Start Page: 70\n",
      "End Page: 76\n",
      "Name of New Document: Melody\n"
     ]
    }
   ],
   "source": [
    "import PyPDF2\n",
    "\n",
    "pd = \".pdf\" # Create file extension\n",
    "original_document = input(\"Name of Original Document: \") # Enter name of pdf document (without extension) you would like to split\n",
    "original_document = original_document+pd # Concatenate file name and .pdf extension\n",
    "\n",
    "pdfFileObj = open(original_document, 'rb') # Storing file name as file object.  rb = read binary\n",
    "pdfReader = PyPDF2.PdfFileReader(pdfFileObj) # Create reader.  Reader represents the PDF\n",
    "pdfReader.numPages # Number of pages in file\n",
    "\n",
    "number = int(input(\"How many pdf documents do you need? \")) # Enter number of pdfs you would like to create\n",
    "number += 1\n",
    "\n",
    "# Loop though page ranges and create new pdfs\n",
    "for i in range(1,number):\n",
    "    \n",
    "    a = int(input(\"Start Page: \")) # Enter tart page for new document\n",
    "    a -= 1\n",
    "    b = int(input(\"End Page: \")) # Enter start page for new document\n",
    "    new_doc_name = input(\"Name of New Document: \") # Enter name of new document\n",
    "    new_doc_name = new_doc_name+pd # Concatenate file name and .pdf extension\n",
    "    pdfWriter = PyPDF2.PdfFileWriter() # Writers can create new PDF files.  REPRESENTS a blank PDF document\n",
    "    \n",
    "    pdfOutputFile = open(new_doc_name, 'wb') # Create a blank PDF document.\n",
    "    \n",
    "    # For each page range, add pages to pdfWriter\n",
    "    for pageNum in range(a,b):\n",
    "        pageObj = pdfReader.getPage(pageNum)\n",
    "        pdfWriter.addPage(pageObj)\n",
    "    \n",
    "    pdfWriter.write(pdfOutputFile) # WRITE combinations of pdfs in 'pdfWriter' to blank PDF document.\n",
    "    pdfOutputFile.close() #Shuts all file descriptors (input and output) and clears all memory usage."
   ]
  }
 ],
 "metadata": {
  "kernelspec": {
   "display_name": "Python 3",
   "language": "python",
   "name": "python3"
  },
  "language_info": {
   "codemirror_mode": {
    "name": "ipython",
    "version": 3
   },
   "file_extension": ".py",
   "mimetype": "text/x-python",
   "name": "python",
   "nbconvert_exporter": "python",
   "pygments_lexer": "ipython3",
   "version": "3.7.4"
  }
 },
 "nbformat": 4,
 "nbformat_minor": 2
}
