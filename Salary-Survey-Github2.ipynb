{
 "cells": [
  {
   "cell_type": "code",
   "execution_count": 2,
   "metadata": {},
   "outputs": [],
   "source": [
    "from PyPDF2 import PdfFileWriter, PdfFileReader, PdfFileMerger\n",
    "import itertools as it\n",
    "\n",
    "#This code separates each page of the pdf into individual pdfs.\n",
    "\n",
    "inputpdf = PdfFileReader(open(\"Salary-Survey.pdf\", \"rb\"))\n",
    "\n",
    "for i in range(inputpdf.numPages):\n",
    "    output = PdfFileWriter()\n",
    "    output.addPage(inputpdf.getPage(i))\n",
    "    with open(\"Salary-Survey-pages%s.pdf\" % i, \"wb\") as outputStream:\n",
    "        output.write(outputStream)"
   ]
  },
  {
   "cell_type": "code",
   "execution_count": 4,
   "metadata": {},
   "outputs": [
    {
     "name": "stdout",
     "output_type": "stream",
     "text": [
      "How many pdf documents do you need? 2\n",
      "Start Page: 1\n",
      "End Page: 2\n",
      "Name: Heynow\n",
      "Start Page: 3\n",
      "End Page: 4\n",
      "Name: Heynow2\n"
     ]
    }
   ],
   "source": [
    "number = int(input(\"How many pdf documents do you need? \"))\n",
    "number += 1\n",
    "pd = \".pdf\"\n",
    "\n",
    "for i in range(1,number):\n",
    "    \n",
    "    a = int(input(\"Start Page: \"))\n",
    "    a -= 1\n",
    "    b = int(input(\"End Page: \"))\n",
    "    name = input(\"Name: \")\n",
    "    name = name+pd\n",
    "    pdfs = []\n",
    "    merger=PdfFileMerger()\n",
    "    \n",
    "    for i in range(a,b):\n",
    "        hey = 'Salary-Survey-pages%s.pdf' % i\n",
    "        pdfs.append(hey)\n",
    "\n",
    "    for pdf in pdfs:\n",
    "        merger.append(pdf)\n",
    "\n",
    "    merger.write(name)\n",
    "    merger.close()"
   ]
  }
 ],
 "metadata": {
  "kernelspec": {
   "display_name": "Python 3",
   "language": "python",
   "name": "python3"
  }
 },
 "nbformat": 4,
 "nbformat_minor": 2
}
